{
 "cells": [
  {
   "cell_type": "markdown",
   "metadata": {},
   "source": [
    "## Data set\n",
    "\n",
    "We will be using two of the data sets provided by the Museam of Modern Art (MoMA) in this lecture.  Make sure that you have downloaded each repository"
   ]
  },
  {
   "cell_type": "markdown",
   "metadata": {},
   "source": [
    "#### Install `git-lfs` on Macs "
   ]
  },
  {
   "cell_type": "code",
   "execution_count": 1,
   "metadata": {},
   "outputs": [
    {
     "name": "stdout",
     "output_type": "stream",
     "text": [
      "Running `brew update --auto-update`...\n",
      "\u001b[34m==>\u001b[0m \u001b[1mAuto-updated Homebrew!\u001b[0m\n",
      "Updated 1 tap (homebrew/core).\n",
      "\u001b[34m==>\u001b[0m \u001b[1mNew Formulae\u001b[0m\n",
      "antidote            gator               liburing            pyyaml\n",
      "apophenia           gdrive-downloader   licenseplist        quilt-installer\n",
      "bdftopcf            ghc@8.10            llvm@14             schemathesis\n",
      "cargo-zigbuild      got                 lmfit               weasyprint\n",
      "commitlint          has                 mailsy              xctesthtmlreport\n",
      "fonts-encodings     liblbfgs            objconv             xwin\n",
      "\n",
      "You have \u001b[1m3\u001b[0m outdated formulae installed.\n",
      "You can upgrade them with \u001b[1mbrew upgrade\u001b[0m\n",
      "or list them with \u001b[1mbrew outdated\u001b[0m.\n",
      "\n",
      "\u001b[34m==>\u001b[0m \u001b[1mDownloading https://ghcr.io/v2/homebrew/core/git-lfs/manifests/3.2.0\u001b[0m\n",
      "######################################################################## 100.0%\n",
      "\u001b[34m==>\u001b[0m \u001b[1mDownloading https://ghcr.io/v2/homebrew/core/git-lfs/blobs/sha256:2ccd239da9\u001b[0m\n",
      "\u001b[34m==>\u001b[0m \u001b[1mDownloading from https://pkg-containers.githubusercontent.com/ghcr1/blobs/sh\u001b[0m\n",
      "######################################################################## 100.0%\n",
      "\u001b[34m==>\u001b[0m \u001b[1mPouring git-lfs--3.2.0.monterey.bottle.tar.gz\u001b[0m\n",
      "\u001b[34m==>\u001b[0m \u001b[1mCaveats\u001b[0m\n",
      "Update your git config to finish installation:\n",
      "\n",
      "  # Update global git config\n",
      "  $ git lfs install\n",
      "\n",
      "  # Update system git config\n",
      "  $ git lfs install --system\n",
      "\u001b[34m==>\u001b[0m \u001b[1mSummary\u001b[0m\n",
      "🍺  /usr/local/Cellar/git-lfs/3.2.0: 3 files, 11.2MB\n",
      "\u001b[34m==>\u001b[0m \u001b[1mRunning `brew cleanup git-lfs`...\u001b[0m\n",
      "Disable this behaviour by setting HOMEBREW_NO_INSTALL_CLEANUP.\n",
      "Hide these hints with HOMEBREW_NO_ENV_HINTS (see `man brew`).\n"
     ]
    }
   ],
   "source": [
    "!brew install git-lfs"
   ]
  },
  {
   "cell_type": "markdown",
   "metadata": {},
   "source": [
    "#### Install `git-lhs` on `wsl Ubuntu` "
   ]
  },
  {
   "cell_type": "code",
   "execution_count": null,
   "metadata": {},
   "outputs": [],
   "source": [
    "!sudo apt-get install software-properties-common"
   ]
  },
  {
   "cell_type": "code",
   "execution_count": null,
   "metadata": {},
   "outputs": [],
   "source": [
    "!sudo add-apt-repository ppa:git-core/ppa"
   ]
  },
  {
   "cell_type": "code",
   "execution_count": null,
   "metadata": {},
   "outputs": [],
   "source": [
    "!curl -s https://packagecloud.io/install/repositories/github/git-lfs/script.deb.sh | sudo bash"
   ]
  },
  {
   "cell_type": "code",
   "execution_count": null,
   "metadata": {},
   "outputs": [],
   "source": [
    "!sudo apt-get install git-lfs"
   ]
  },
  {
   "cell_type": "markdown",
   "metadata": {},
   "source": [
    "#### Install lfs (both systems)"
   ]
  },
  {
   "cell_type": "code",
   "execution_count": 2,
   "metadata": {},
   "outputs": [
    {
     "name": "stdout",
     "output_type": "stream",
     "text": [
      "Updated Git hooks.\n",
      "Git LFS initialized.\n"
     ]
    }
   ],
   "source": [
    "!git lfs install"
   ]
  },
  {
   "cell_type": "markdown",
   "metadata": {},
   "source": [
    "#### Clone the collection repo"
   ]
  },
  {
   "cell_type": "code",
   "execution_count": 3,
   "metadata": {},
   "outputs": [],
   "source": [
    "!rm -rf ./data/MoMA_collection/"
   ]
  },
  {
   "cell_type": "code",
   "execution_count": 4,
   "metadata": {},
   "outputs": [
    {
     "name": "stdout",
     "output_type": "stream",
     "text": [
      "Cloning into './data/MoMA_collection'...\n",
      "remote: Enumerating objects: 505, done.\u001b[K\n",
      "remote: Counting objects: 100% (37/37), done.\u001b[K\n",
      "remote: Compressing objects: 100% (32/32), done.\u001b[K\n",
      "remote: Total 505 (delta 8), reused 30 (delta 5), pack-reused 468\u001b[K\n",
      "Receiving objects: 100% (505/505), 36.86 MiB | 4.69 MiB/s, done.\n",
      "Resolving deltas: 100% (102/102), done.\n",
      "Filtering content: 100% (4/4), 180.53 MiB | 6.10 MiB/s, done.\n"
     ]
    }
   ],
   "source": [
    "!git clone https://github.com/MuseumofModernArt/collection.git ./data/MoMA_collection"
   ]
  },
  {
   "cell_type": "code",
   "execution_count": 5,
   "metadata": {},
   "outputs": [
    {
     "name": "stdout",
     "output_type": "stream",
     "text": [
      "total 369776\n",
      "drwxr-xr-x   9 ah8941ed  WINONA\\Domain Users        288 Sep 19 12:58 \u001b[34m.\u001b[m\u001b[m\n",
      "drwxr-xr-x  12 ah8941ed  WINONA\\Domain Users        384 Sep 19 12:57 \u001b[34m..\u001b[m\u001b[m\n",
      "drwxr-xr-x  13 ah8941ed  WINONA\\Domain Users        416 Sep 19 12:58 \u001b[34m.git\u001b[m\u001b[m\n",
      "-rw-r--r--   1 ah8941ed  WINONA\\Domain Users         85 Sep 19 12:57 .gitattributes\n",
      "-rw-r--r--   1 ah8941ed  WINONA\\Domain Users     999504 Sep 19 12:57 Artists.csv\n",
      "-rw-r--r--   1 ah8941ed  WINONA\\Domain Users    3432965 Sep 19 12:57 Artists.json\n",
      "-rw-r--r--   1 ah8941ed  WINONA\\Domain Users   61642672 Sep 19 12:57 Artworks.csv\n",
      "-rw-r--r--   1 ah8941ed  WINONA\\Domain Users  123226875 Sep 19 12:58 Artworks.json\n",
      "-rw-r--r--   1 ah8941ed  WINONA\\Domain Users       4358 Sep 19 12:57 README.md\n"
     ]
    }
   ],
   "source": [
    "!ls -al ./data/MoMA_collection/"
   ]
  },
  {
   "cell_type": "markdown",
   "metadata": {},
   "source": [
    "#### Install the exhibitions repo"
   ]
  },
  {
   "cell_type": "code",
   "execution_count": 6,
   "metadata": {
    "scrolled": true
   },
   "outputs": [
    {
     "name": "stdout",
     "output_type": "stream",
     "text": [
      "Cloning into './data/MoMA_exhibitions'...\n",
      "remote: Enumerating objects: 33, done.\u001b[K\n",
      "remote: Total 33 (delta 0), reused 0 (delta 0), pack-reused 33\u001b[K\n",
      "Receiving objects: 100% (33/33), 2.26 MiB | 1.02 MiB/s, done.\n",
      "Resolving deltas: 100% (14/14), done.\n"
     ]
    }
   ],
   "source": [
    "!git clone https://github.com/MuseumofModernArt/exhibitions.git ./data/MoMA_exhibitions"
   ]
  },
  {
   "cell_type": "markdown",
   "metadata": {},
   "source": [
    "## The exhibition file gives encoding errors by default"
   ]
  },
  {
   "cell_type": "code",
   "execution_count": 7,
   "metadata": {
    "scrolled": true
   },
   "outputs": [
    {
     "ename": "NameError",
     "evalue": "name 'pd' is not defined",
     "output_type": "error",
     "traceback": [
      "\u001b[0;31m---------------------------------------------------------------------------\u001b[0m",
      "\u001b[0;31mNameError\u001b[0m                                 Traceback (most recent call last)",
      "\u001b[1;32m/Users/ah8941ed/Library/CloudStorage/OneDrive-MNSCU/Senior Year/Data Science at Scale/module3_more_about_mutate/get_MOMA_data.ipynb Cell 18\u001b[0m in \u001b[0;36m<cell line: 1>\u001b[0;34m()\u001b[0m\n\u001b[0;32m----> <a href='vscode-notebook-cell:/Users/ah8941ed/Library/CloudStorage/OneDrive-MNSCU/Senior%20Year/Data%20Science%20at%20Scale/module3_more_about_mutate/get_MOMA_data.ipynb#X23sZmlsZQ%3D%3D?line=0'>1</a>\u001b[0m exhibitions \u001b[39m=\u001b[39m pd\u001b[39m.\u001b[39mread_csv(\u001b[39m'\u001b[39m\u001b[39m./data/MoMA_exhibitions/MoMAExhibitions1929to1989.csv\u001b[39m\u001b[39m'\u001b[39m)\n",
      "\u001b[0;31mNameError\u001b[0m: name 'pd' is not defined"
     ]
    }
   ],
   "source": [
    "exhibitions = pd.read_csv('./data/MoMA_exhibitions/MoMAExhibitions1929to1989.csv')"
   ]
  },
  {
   "cell_type": "code",
   "execution_count": 13,
   "metadata": {},
   "outputs": [],
   "source": [
    "import pandas as pd\n",
    "from dfply import *\n",
    "import matplotlib.pylab as plt"
   ]
  },
  {
   "cell_type": "markdown",
   "metadata": {},
   "source": [
    "## Switching encodings fixes the problem\n",
    "\n",
    "* See [this Stack Overflow question](https://stackoverflow.com/questions/18171739/unicodedecodeerror-when-reading-csv-file-in-pandas-with-python)\n",
    "* More details on [ISO-8859-1](https://en.wikipedia.org/wiki/ISO/IEC_8859-1)"
   ]
  },
  {
   "cell_type": "code",
   "execution_count": 14,
   "metadata": {
    "scrolled": true
   },
   "outputs": [
    {
     "data": {
      "text/html": [
       "<div>\n",
       "<style scoped>\n",
       "    .dataframe tbody tr th:only-of-type {\n",
       "        vertical-align: middle;\n",
       "    }\n",
       "\n",
       "    .dataframe tbody tr th {\n",
       "        vertical-align: top;\n",
       "    }\n",
       "\n",
       "    .dataframe thead th {\n",
       "        text-align: right;\n",
       "    }\n",
       "</style>\n",
       "<table border=\"1\" class=\"dataframe\">\n",
       "  <thead>\n",
       "    <tr style=\"text-align: right;\">\n",
       "      <th></th>\n",
       "      <th>ExhibitionID</th>\n",
       "      <th>ExhibitionNumber</th>\n",
       "      <th>ExhibitionTitle</th>\n",
       "      <th>ExhibitionCitationDate</th>\n",
       "      <th>ExhibitionBeginDate</th>\n",
       "      <th>ExhibitionEndDate</th>\n",
       "      <th>ExhibitionSortOrder</th>\n",
       "      <th>ExhibitionURL</th>\n",
       "      <th>ExhibitionRole</th>\n",
       "      <th>ExhibitionRoleinPressRelease</th>\n",
       "      <th>...</th>\n",
       "      <th>Institution</th>\n",
       "      <th>Nationality</th>\n",
       "      <th>ConstituentBeginDate</th>\n",
       "      <th>ConstituentEndDate</th>\n",
       "      <th>ArtistBio</th>\n",
       "      <th>Gender</th>\n",
       "      <th>VIAFID</th>\n",
       "      <th>WikidataID</th>\n",
       "      <th>ULANID</th>\n",
       "      <th>ConstituentURL</th>\n",
       "    </tr>\n",
       "  </thead>\n",
       "  <tbody>\n",
       "    <tr>\n",
       "      <th>0</th>\n",
       "      <td>2557.0</td>\n",
       "      <td>1</td>\n",
       "      <td>Cézanne, Gauguin, Seurat, Van Gogh</td>\n",
       "      <td>[MoMA Exh. #1, November 7-December 7, 1929]</td>\n",
       "      <td>1929-11-07</td>\n",
       "      <td>1929-12-07</td>\n",
       "      <td>1.0</td>\n",
       "      <td>moma.org/calendar/exhibitions/1767</td>\n",
       "      <td>Curator</td>\n",
       "      <td>Director</td>\n",
       "      <td>...</td>\n",
       "      <td>NaN</td>\n",
       "      <td>American</td>\n",
       "      <td>1902.0</td>\n",
       "      <td>1981.0</td>\n",
       "      <td>American, 19021981</td>\n",
       "      <td>Male</td>\n",
       "      <td>109252853.0</td>\n",
       "      <td>Q711362</td>\n",
       "      <td>500241556.0</td>\n",
       "      <td>moma.org/artists/9168</td>\n",
       "    </tr>\n",
       "    <tr>\n",
       "      <th>1</th>\n",
       "      <td>2557.0</td>\n",
       "      <td>1</td>\n",
       "      <td>Cézanne, Gauguin, Seurat, Van Gogh</td>\n",
       "      <td>[MoMA Exh. #1, November 7-December 7, 1929]</td>\n",
       "      <td>1929-11-07</td>\n",
       "      <td>1929-12-07</td>\n",
       "      <td>1.0</td>\n",
       "      <td>moma.org/calendar/exhibitions/1767</td>\n",
       "      <td>Artist</td>\n",
       "      <td>Artist</td>\n",
       "      <td>...</td>\n",
       "      <td>NaN</td>\n",
       "      <td>French</td>\n",
       "      <td>1839.0</td>\n",
       "      <td>1906.0</td>\n",
       "      <td>French, 18391906</td>\n",
       "      <td>Male</td>\n",
       "      <td>39374836.0</td>\n",
       "      <td>Q35548</td>\n",
       "      <td>500004793.0</td>\n",
       "      <td>moma.org/artists/1053</td>\n",
       "    </tr>\n",
       "  </tbody>\n",
       "</table>\n",
       "<p>2 rows × 28 columns</p>\n",
       "</div>"
      ],
      "text/plain": [
       "   ExhibitionID ExhibitionNumber                     ExhibitionTitle  \\\n",
       "0        2557.0                1  Cézanne, Gauguin, Seurat, Van Gogh   \n",
       "1        2557.0                1  Cézanne, Gauguin, Seurat, Van Gogh   \n",
       "\n",
       "                        ExhibitionCitationDate ExhibitionBeginDate  \\\n",
       "0  [MoMA Exh. #1, November 7-December 7, 1929]          1929-11-07   \n",
       "1  [MoMA Exh. #1, November 7-December 7, 1929]          1929-11-07   \n",
       "\n",
       "  ExhibitionEndDate  ExhibitionSortOrder                       ExhibitionURL  \\\n",
       "0        1929-12-07                  1.0  moma.org/calendar/exhibitions/1767   \n",
       "1        1929-12-07                  1.0  moma.org/calendar/exhibitions/1767   \n",
       "\n",
       "  ExhibitionRole ExhibitionRoleinPressRelease  ...  Institution Nationality  \\\n",
       "0        Curator                     Director  ...          NaN    American   \n",
       "1         Artist                       Artist  ...          NaN      French   \n",
       "\n",
       "  ConstituentBeginDate ConstituentEndDate            ArtistBio Gender  \\\n",
       "0               1902.0             1981.0  American, 19021981   Male   \n",
       "1               1839.0             1906.0    French, 18391906   Male   \n",
       "\n",
       "        VIAFID WikidataID       ULANID         ConstituentURL  \n",
       "0  109252853.0    Q711362  500241556.0  moma.org/artists/9168  \n",
       "1   39374836.0     Q35548  500004793.0  moma.org/artists/1053  \n",
       "\n",
       "[2 rows x 28 columns]"
      ]
     },
     "execution_count": 14,
     "metadata": {},
     "output_type": "execute_result"
    }
   ],
   "source": [
    "dat_cols = ['ExhibitionBeginDate', 'ExhibitionEndDate']\n",
    "exhibitions = pd.read_csv('./data/MoMA_exhibitions/MoMAExhibitions1929to1989.csv', \n",
    "                          encoding=\"ISO-8859-1\",\n",
    "                          parse_dates=dat_cols)\n",
    "exhibitions.head(2)"
   ]
  },
  {
   "cell_type": "code",
   "execution_count": 15,
   "metadata": {},
   "outputs": [
    {
     "data": {
      "text/html": [
       "<div>\n",
       "<style scoped>\n",
       "    .dataframe tbody tr th:only-of-type {\n",
       "        vertical-align: middle;\n",
       "    }\n",
       "\n",
       "    .dataframe tbody tr th {\n",
       "        vertical-align: top;\n",
       "    }\n",
       "\n",
       "    .dataframe thead th {\n",
       "        text-align: right;\n",
       "    }\n",
       "</style>\n",
       "<table border=\"1\" class=\"dataframe\">\n",
       "  <thead>\n",
       "    <tr style=\"text-align: right;\">\n",
       "      <th></th>\n",
       "      <th>ConstituentID</th>\n",
       "      <th>DisplayName</th>\n",
       "      <th>ArtistBio</th>\n",
       "      <th>Nationality</th>\n",
       "      <th>Gender</th>\n",
       "      <th>BeginDate</th>\n",
       "      <th>EndDate</th>\n",
       "      <th>Wiki QID</th>\n",
       "      <th>ULAN</th>\n",
       "    </tr>\n",
       "  </thead>\n",
       "  <tbody>\n",
       "    <tr>\n",
       "      <th>0</th>\n",
       "      <td>1</td>\n",
       "      <td>Robert Arneson</td>\n",
       "      <td>American, 1930–1992</td>\n",
       "      <td>American</td>\n",
       "      <td>Male</td>\n",
       "      <td>1930</td>\n",
       "      <td>1992</td>\n",
       "      <td>NaN</td>\n",
       "      <td>NaN</td>\n",
       "    </tr>\n",
       "    <tr>\n",
       "      <th>1</th>\n",
       "      <td>2</td>\n",
       "      <td>Doroteo Arnaiz</td>\n",
       "      <td>Spanish, born 1936</td>\n",
       "      <td>Spanish</td>\n",
       "      <td>Male</td>\n",
       "      <td>1936</td>\n",
       "      <td>0</td>\n",
       "      <td>NaN</td>\n",
       "      <td>NaN</td>\n",
       "    </tr>\n",
       "  </tbody>\n",
       "</table>\n",
       "</div>"
      ],
      "text/plain": [
       "   ConstituentID     DisplayName            ArtistBio Nationality Gender  \\\n",
       "0              1  Robert Arneson  American, 1930–1992    American   Male   \n",
       "1              2  Doroteo Arnaiz   Spanish, born 1936     Spanish   Male   \n",
       "\n",
       "   BeginDate  EndDate Wiki QID  ULAN  \n",
       "0       1930     1992      NaN   NaN  \n",
       "1       1936        0      NaN   NaN  "
      ]
     },
     "execution_count": 15,
     "metadata": {},
     "output_type": "execute_result"
    }
   ],
   "source": [
    "artists = pd.read_csv(\"./data/Artists.csv\")\n",
    "artists.head(2)"
   ]
  },
  {
   "cell_type": "code",
   "execution_count": 16,
   "metadata": {},
   "outputs": [
    {
     "ename": "NameError",
     "evalue": "name 'get_spark_types' is not defined",
     "output_type": "error",
     "traceback": [
      "\u001b[0;31m---------------------------------------------------------------------------\u001b[0m",
      "\u001b[0;31mNameError\u001b[0m                                 Traceback (most recent call last)",
      "\u001b[1;32m/Users/ah8941ed/Library/CloudStorage/OneDrive-MNSCU/Senior Year/Data Science at Scale/module3_more_about_mutate/get_MOMA_data.ipynb Cell 23\u001b[0m in \u001b[0;36m<cell line: 1>\u001b[0;34m()\u001b[0m\n\u001b[0;32m----> <a href='vscode-notebook-cell:/Users/ah8941ed/Library/CloudStorage/OneDrive-MNSCU/Senior%20Year/Data%20Science%20at%20Scale/module3_more_about_mutate/get_MOMA_data.ipynb#X30sZmlsZQ%3D%3D?line=0'>1</a>\u001b[0m artists_schema \u001b[39m=\u001b[39m get_spark_types(artists, keys\u001b[39m=\u001b[39m[\u001b[39m'\u001b[39m\u001b[39mConstituentID\u001b[39m\u001b[39m'\u001b[39m])\n\u001b[1;32m      <a href='vscode-notebook-cell:/Users/ah8941ed/Library/CloudStorage/OneDrive-MNSCU/Senior%20Year/Data%20Science%20at%20Scale/module3_more_about_mutate/get_MOMA_data.ipynb#X30sZmlsZQ%3D%3D?line=2'>3</a>\u001b[0m artists_spark \u001b[39m=\u001b[39m spark\u001b[39m.\u001b[39mcreateDataFrame(artists, schema\u001b[39m=\u001b[39martists_schema)\n\u001b[1;32m      <a href='vscode-notebook-cell:/Users/ah8941ed/Library/CloudStorage/OneDrive-MNSCU/Senior%20Year/Data%20Science%20at%20Scale/module3_more_about_mutate/get_MOMA_data.ipynb#X30sZmlsZQ%3D%3D?line=3'>4</a>\u001b[0m (artists_spark\n\u001b[1;32m      <a href='vscode-notebook-cell:/Users/ah8941ed/Library/CloudStorage/OneDrive-MNSCU/Senior%20Year/Data%20Science%20at%20Scale/module3_more_about_mutate/get_MOMA_data.ipynb#X30sZmlsZQ%3D%3D?line=4'>5</a>\u001b[0m  \u001b[39m.\u001b[39mtake(\u001b[39m5\u001b[39m)) \u001b[39m>>\u001b[39m to_pandas\n",
      "\u001b[0;31mNameError\u001b[0m: name 'get_spark_types' is not defined"
     ]
    }
   ],
   "source": [
    "artists_schema = get_spark_types(artists, keys=['ConstituentID'])\n",
    "\n",
    "artists_spark = spark.createDataFrame(artists, schema=artists_schema)\n",
    "(artists_spark\n",
    " .take(5)) >> to_pandas"
   ]
  },
  {
   "cell_type": "code",
   "execution_count": 18,
   "metadata": {},
   "outputs": [
    {
     "data": {
      "text/html": [
       "<div>\n",
       "<style scoped>\n",
       "    .dataframe tbody tr th:only-of-type {\n",
       "        vertical-align: middle;\n",
       "    }\n",
       "\n",
       "    .dataframe tbody tr th {\n",
       "        vertical-align: top;\n",
       "    }\n",
       "\n",
       "    .dataframe thead th {\n",
       "        text-align: right;\n",
       "    }\n",
       "</style>\n",
       "<table border=\"1\" class=\"dataframe\">\n",
       "  <thead>\n",
       "    <tr style=\"text-align: right;\">\n",
       "      <th></th>\n",
       "      <th>Title</th>\n",
       "      <th>Artist</th>\n",
       "      <th>ConstituentID</th>\n",
       "      <th>ArtistBio</th>\n",
       "      <th>Nationality</th>\n",
       "      <th>BeginDate</th>\n",
       "      <th>EndDate</th>\n",
       "      <th>Gender</th>\n",
       "      <th>Date</th>\n",
       "      <th>Medium</th>\n",
       "      <th>...</th>\n",
       "      <th>Circumference_cm</th>\n",
       "      <th>Depth_cm</th>\n",
       "      <th>Diameter_cm</th>\n",
       "      <th>Height_cm</th>\n",
       "      <th>Length_cm</th>\n",
       "      <th>Weight_kg</th>\n",
       "      <th>Width_cm</th>\n",
       "      <th>Seat_Height_cm</th>\n",
       "      <th>Duration_sec</th>\n",
       "      <th>id</th>\n",
       "    </tr>\n",
       "  </thead>\n",
       "  <tbody>\n",
       "    <tr>\n",
       "      <th>0</th>\n",
       "      <td>Ferdinandsbrücke Project, Vienna, Austria (Ele...</td>\n",
       "      <td>Otto Wagner</td>\n",
       "      <td>6210</td>\n",
       "      <td>(Austrian, 1841–1918)</td>\n",
       "      <td>(Austrian)</td>\n",
       "      <td>(1841)</td>\n",
       "      <td>(1918)</td>\n",
       "      <td>(Male)</td>\n",
       "      <td>1896</td>\n",
       "      <td>Ink and cut-and-pasted painted pages on paper</td>\n",
       "      <td>...</td>\n",
       "      <td>NaN</td>\n",
       "      <td>NaN</td>\n",
       "      <td>NaN</td>\n",
       "      <td>48.6000</td>\n",
       "      <td>NaN</td>\n",
       "      <td>NaN</td>\n",
       "      <td>168.9000</td>\n",
       "      <td>NaN</td>\n",
       "      <td>NaN</td>\n",
       "      <td>1</td>\n",
       "    </tr>\n",
       "    <tr>\n",
       "      <th>1</th>\n",
       "      <td>City of Music, National Superior Conservatory ...</td>\n",
       "      <td>Christian de Portzamparc</td>\n",
       "      <td>7470</td>\n",
       "      <td>(French, born 1944)</td>\n",
       "      <td>(French)</td>\n",
       "      <td>(1944)</td>\n",
       "      <td>(0)</td>\n",
       "      <td>(Male)</td>\n",
       "      <td>1987</td>\n",
       "      <td>Paint and colored pencil on print</td>\n",
       "      <td>...</td>\n",
       "      <td>NaN</td>\n",
       "      <td>NaN</td>\n",
       "      <td>NaN</td>\n",
       "      <td>40.6401</td>\n",
       "      <td>NaN</td>\n",
       "      <td>NaN</td>\n",
       "      <td>29.8451</td>\n",
       "      <td>NaN</td>\n",
       "      <td>NaN</td>\n",
       "      <td>2</td>\n",
       "    </tr>\n",
       "  </tbody>\n",
       "</table>\n",
       "<p>2 rows × 30 columns</p>\n",
       "</div>"
      ],
      "text/plain": [
       "                                               Title  \\\n",
       "0  Ferdinandsbrücke Project, Vienna, Austria (Ele...   \n",
       "1  City of Music, National Superior Conservatory ...   \n",
       "\n",
       "                     Artist ConstituentID              ArtistBio Nationality  \\\n",
       "0               Otto Wagner          6210  (Austrian, 1841–1918)  (Austrian)   \n",
       "1  Christian de Portzamparc          7470    (French, born 1944)    (French)   \n",
       "\n",
       "  BeginDate EndDate  Gender  Date  \\\n",
       "0    (1841)  (1918)  (Male)  1896   \n",
       "1    (1944)     (0)  (Male)  1987   \n",
       "\n",
       "                                          Medium  ... Circumference_cm  \\\n",
       "0  Ink and cut-and-pasted painted pages on paper  ...              NaN   \n",
       "1              Paint and colored pencil on print  ...              NaN   \n",
       "\n",
       "  Depth_cm Diameter_cm Height_cm Length_cm Weight_kg  Width_cm  \\\n",
       "0      NaN         NaN   48.6000       NaN       NaN  168.9000   \n",
       "1      NaN         NaN   40.6401       NaN       NaN   29.8451   \n",
       "\n",
       "   Seat_Height_cm Duration_sec id  \n",
       "0             NaN          NaN  1  \n",
       "1             NaN          NaN  2  \n",
       "\n",
       "[2 rows x 30 columns]"
      ]
     },
     "execution_count": 18,
     "metadata": {},
     "output_type": "execute_result"
    }
   ],
   "source": [
    "from more_dfply import fix_names\n",
    "artwork = (pd.read_csv(\"./data/Artworks.csv\")\n",
    "           >> fix_names\n",
    "           >> mutate(id = X.index + 1)\n",
    "          )\n",
    "artwork.head(2)"
   ]
  },
  {
   "cell_type": "code",
   "execution_count": 19,
   "metadata": {},
   "outputs": [
    {
     "ename": "NameError",
     "evalue": "name 'get_spark_types' is not defined",
     "output_type": "error",
     "traceback": [
      "\u001b[0;31m---------------------------------------------------------------------------\u001b[0m",
      "\u001b[0;31mNameError\u001b[0m                                 Traceback (most recent call last)",
      "\u001b[1;32m/Users/ah8941ed/Library/CloudStorage/OneDrive-MNSCU/Senior Year/Data Science at Scale/module3_more_about_mutate/get_MOMA_data.ipynb Cell 25\u001b[0m in \u001b[0;36m<cell line: 1>\u001b[0;34m()\u001b[0m\n\u001b[0;32m----> <a href='vscode-notebook-cell:/Users/ah8941ed/Library/CloudStorage/OneDrive-MNSCU/Senior%20Year/Data%20Science%20at%20Scale/module3_more_about_mutate/get_MOMA_data.ipynb#X32sZmlsZQ%3D%3D?line=0'>1</a>\u001b[0m artwork_schema \u001b[39m=\u001b[39m get_spark_types(artwork, keys\u001b[39m=\u001b[39m[\u001b[39m'\u001b[39m\u001b[39mid\u001b[39m\u001b[39m'\u001b[39m])\n\u001b[1;32m      <a href='vscode-notebook-cell:/Users/ah8941ed/Library/CloudStorage/OneDrive-MNSCU/Senior%20Year/Data%20Science%20at%20Scale/module3_more_about_mutate/get_MOMA_data.ipynb#X32sZmlsZQ%3D%3D?line=2'>3</a>\u001b[0m artwork_spark \u001b[39m=\u001b[39m spark\u001b[39m.\u001b[39mcreateDataFrame(artwork, schema\u001b[39m=\u001b[39martwork_schema)\n\u001b[1;32m      <a href='vscode-notebook-cell:/Users/ah8941ed/Library/CloudStorage/OneDrive-MNSCU/Senior%20Year/Data%20Science%20at%20Scale/module3_more_about_mutate/get_MOMA_data.ipynb#X32sZmlsZQ%3D%3D?line=3'>4</a>\u001b[0m (artwork_spark\n\u001b[1;32m      <a href='vscode-notebook-cell:/Users/ah8941ed/Library/CloudStorage/OneDrive-MNSCU/Senior%20Year/Data%20Science%20at%20Scale/module3_more_about_mutate/get_MOMA_data.ipynb#X32sZmlsZQ%3D%3D?line=4'>5</a>\u001b[0m  \u001b[39m.\u001b[39mtake(\u001b[39m2\u001b[39m)) \u001b[39m>>\u001b[39m to_pandas\n",
      "\u001b[0;31mNameError\u001b[0m: name 'get_spark_types' is not defined"
     ]
    }
   ],
   "source": [
    "artwork_schema = get_spark_types(artwork, keys=['id'])\n",
    "\n",
    "artwork_spark = spark.createDataFrame(artwork, schema=artwork_schema)\n",
    "(artwork_spark\n",
    " .take(2)) >> to_pandas"
   ]
  },
  {
   "cell_type": "code",
   "execution_count": null,
   "metadata": {},
   "outputs": [],
   "source": []
  },
  {
   "cell_type": "code",
   "execution_count": null,
   "metadata": {},
   "outputs": [],
   "source": []
  }
 ],
 "metadata": {
  "kernelspec": {
   "display_name": "Python 3.9.12 64-bit ('base')",
   "language": "python",
   "name": "python3"
  },
  "language_info": {
   "codemirror_mode": {
    "name": "ipython",
    "version": 3
   },
   "file_extension": ".py",
   "mimetype": "text/x-python",
   "name": "python",
   "nbconvert_exporter": "python",
   "pygments_lexer": "ipython3",
   "version": "3.9.12"
  },
  "varInspector": {
   "cols": {
    "lenName": 16,
    "lenType": 16,
    "lenVar": 40
   },
   "kernels_config": {
    "python": {
     "delete_cmd_postfix": "",
     "delete_cmd_prefix": "del ",
     "library": "var_list.py",
     "varRefreshCmd": "print(var_dic_list())"
    },
    "r": {
     "delete_cmd_postfix": ") ",
     "delete_cmd_prefix": "rm(",
     "library": "var_list.r",
     "varRefreshCmd": "cat(var_dic_list()) "
    }
   },
   "types_to_exclude": [
    "module",
    "function",
    "builtin_function_or_method",
    "instance",
    "_Feature"
   ],
   "window_display": false
  },
  "vscode": {
   "interpreter": {
    "hash": "473b41802f15bc4d36e58363591c00526b25180ec7618bd57a0904bb7f368ffa"
   }
  }
 },
 "nbformat": 4,
 "nbformat_minor": 2
}
